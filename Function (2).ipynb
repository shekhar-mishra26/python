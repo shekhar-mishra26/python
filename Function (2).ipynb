{
  "nbformat": 4,
  "nbformat_minor": 0,
  "metadata": {
    "colab": {
      "provenance": []
    },
    "kernelspec": {
      "name": "python3",
      "display_name": "Python 3"
    },
    "language_info": {
      "name": "python"
    }
  },
  "cells": [
    {
      "cell_type": "code",
      "execution_count": null,
      "metadata": {
        "id": "oj0cIhbf4xhZ"
      },
      "outputs": [],
      "source": []
    },
    {
      "cell_type": "markdown",
      "source": [
        "what is the python"
      ],
      "metadata": {
        "id": "Qa513sPc45d0"
      }
    },
    {
      "cell_type": "code",
      "source": [],
      "metadata": {
        "id": "IYwu46SW5AEQ"
      },
      "execution_count": null,
      "outputs": []
    },
    {
      "cell_type": "markdown",
      "source": [
        "what shouild i do"
      ],
      "metadata": {
        "id": "a9m--llg5C2-"
      }
    },
    {
      "cell_type": "markdown",
      "source": [],
      "metadata": {
        "id": "9Vkya4Ti4-j8"
      }
    },
    {
      "cell_type": "markdown",
      "source": [],
      "metadata": {
        "id": "fQV4aDWE5G_H"
      }
    }
  ]
}